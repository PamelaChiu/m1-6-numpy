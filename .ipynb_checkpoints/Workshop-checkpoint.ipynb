{
 "cells": [
  {
   "cell_type": "markdown",
   "metadata": {},
   "source": [
    "## 1. What is the Average Height of US Presidents?\n",
    "\n",
    "Aggregates available in NumPy can be extremely useful for summarizing a set of values.\n",
    "As a simple example, let's consider the heights of all US presidents.\n",
    "\n",
    "This data is available in the file *president_heights.csv*, which is a simple comma-separated list of labels and values.\n",
    "\n",
    "Find the mean height, the standard deviation of height, and the president who is the smallest and tallest.\n",
    "\n",
    "You can use `pandas` to read in the file if you want, then cast the column to a `np.array`"
   ]
  },
  {
   "cell_type": "code",
   "execution_count": 1,
   "metadata": {
    "scrolled": true
   },
   "outputs": [
    {
     "name": "stdout",
     "output_type": "stream",
     "text": [
      "179.73809523809524\n",
      "6.931843442745893\n",
      "   order           name  height(cm)\n",
      "3      4  James Madison         163\n",
      "    order               name  height(cm)\n",
      "15     16    Abraham Lincoln         193\n",
      "33     36  Lyndon B. Johnson         193\n"
     ]
    }
   ],
   "source": [
    "import pandas as pd\n",
    "import numpy as np\n",
    "\n",
    "ph = pd.read_csv(\"data/president_heights.csv\")\n",
    "df = pd.DataFrame(ph)\n",
    "avg = np.mean(df['height(cm)'])\n",
    "std = np.std(df['height(cm)'])\n",
    "min1 =  df.loc[df['height(cm)']== np.min(df['height(cm)'])]\n",
    "max1 = df.loc[df['height(cm)']== np.max(df['height(cm)'])]\n",
    "\n",
    "print(avg)\n",
    "print(std)\n",
    "print(min1)\n",
    "print(max1)"
   ]
  },
  {
   "cell_type": "markdown",
   "metadata": {},
   "source": [
    "# Exercise 2\n",
    "\n",
    "Recall the polynomial formula\n",
    "\n",
    "$$\n",
    "p(x) = a_0 + a_1 x + a_2 x^2 + \\cdots a_N x^N = \\sum_{n=0}^N a_n x^n \\tag{1}\n",
    "$$\n",
    "\n",
    "In the **math functions workshop**, you wrote a simple function `p(x, coeff)` to evaluate it without thinking about efficiency.\n",
    "\n",
    "Now write a new function that does the same job, but uses NumPy arrays and array operations for its computations, rather than any form of Python loop.\n",
    "\n",
    "(This is already implemented in `np.poly1d`, but use that only to test your function)\n",
    "\n",
    "- Hint: Use `np.cumprod()`  \n"
   ]
  },
  {
   "cell_type": "code",
   "execution_count": 2,
   "metadata": {},
   "outputs": [
    {
     "name": "stdout",
     "output_type": "stream",
     "text": [
      "547\n"
     ]
    },
    {
     "data": {
      "text/plain": [
       "547"
      ]
     },
     "execution_count": 2,
     "metadata": {},
     "output_type": "execute_result"
    }
   ],
   "source": [
    "import pandas as pd\n",
    "import numpy as np\n",
    "\n",
    "def p(x, coeffArr):\n",
    "    np_coeffArray = np.array(coeffArr)\n",
    "    np_filled_with_x = np.full(len(coeffArr) - 1, x)\n",
    "    np_cumulative_prod_of_x = np.cumprod(np_filled_with_x)\n",
    "    final_array_to_multiply = np.insert(np_cumulative_prod_of_x, 0, 1)\n",
    "    return np.sum(np_coeffArray * final_array_to_multiply)\n",
    "\n",
    "print(p(3, [1, 2, 3, 4, 5]))\n",
    "poly = np.poly1d([1, 2, 3, 4, 5][::-1])#test\n",
    "poly(3)"
   ]
  },
  {
   "cell_type": "markdown",
   "metadata": {},
   "source": [
    "## Exercise 3 Softmax\n",
    "\n",
    "Read in `data/iris.csv` and compute the [softmax]() of the sepal length. The formula for the softmax function $\\sigma(x)$ for a vector $x = \\{x_0, x_1, ..., x_{n-1}\\}$ is\n",
    "    .$$\\sigma(x)_j = \\frac{e^{x_j}}{\\sum_k e^{x_k}}$$\n",
    "\n",
    "\n",
    "Your result should be equal to the output of `scipy.special.softmax`"
   ]
  },
  {
   "cell_type": "code",
   "execution_count": 3,
   "metadata": {},
   "outputs": [
    {
     "data": {
      "text/plain": [
       "[0.00222,\n",
       " 0.001817,\n",
       " 0.001488,\n",
       " 0.001346,\n",
       " 0.002008,\n",
       " 0.002996,\n",
       " 0.001346,\n",
       " 0.002008,\n",
       " 0.001102,\n",
       " 0.001817,\n",
       " 0.002996,\n",
       " 0.001644,\n",
       " 0.001644,\n",
       " 0.000997,\n",
       " 0.00447,\n",
       " 0.004044,\n",
       " 0.002996,\n",
       " 0.00222,\n",
       " 0.004044,\n",
       " 0.00222,\n",
       " 0.002996,\n",
       " 0.00222,\n",
       " 0.001346,\n",
       " 0.00222,\n",
       " 0.001644,\n",
       " 0.002008,\n",
       " 0.002008,\n",
       " 0.002453,\n",
       " 0.002453,\n",
       " 0.001488,\n",
       " 0.001644,\n",
       " 0.002996,\n",
       " 0.002453,\n",
       " 0.003311,\n",
       " 0.001817,\n",
       " 0.002008,\n",
       " 0.003311,\n",
       " 0.001817,\n",
       " 0.001102,\n",
       " 0.00222,\n",
       " 0.002008,\n",
       " 0.001218,\n",
       " 0.001102,\n",
       " 0.002008,\n",
       " 0.00222,\n",
       " 0.001644,\n",
       " 0.00222,\n",
       " 0.001346,\n",
       " 0.002711,\n",
       " 0.002008,\n",
       " 0.01484,\n",
       " 0.008144,\n",
       " 0.013428,\n",
       " 0.003311,\n",
       " 0.009001,\n",
       " 0.004044,\n",
       " 0.007369,\n",
       " 0.001817,\n",
       " 0.009947,\n",
       " 0.002453,\n",
       " 0.002008,\n",
       " 0.00494,\n",
       " 0.005459,\n",
       " 0.006033,\n",
       " 0.003659,\n",
       " 0.010994,\n",
       " 0.003659,\n",
       " 0.00447,\n",
       " 0.006668,\n",
       " 0.003659,\n",
       " 0.00494,\n",
       " 0.006033,\n",
       " 0.007369,\n",
       " 0.006033,\n",
       " 0.008144,\n",
       " 0.009947,\n",
       " 0.01215,\n",
       " 0.010994,\n",
       " 0.005459,\n",
       " 0.004044,\n",
       " 0.003311,\n",
       " 0.003311,\n",
       " 0.00447,\n",
       " 0.005459,\n",
       " 0.002996,\n",
       " 0.005459,\n",
       " 0.010994,\n",
       " 0.007369,\n",
       " 0.003659,\n",
       " 0.003311,\n",
       " 0.003311,\n",
       " 0.006033,\n",
       " 0.00447,\n",
       " 0.002008,\n",
       " 0.003659,\n",
       " 0.004044,\n",
       " 0.004044,\n",
       " 0.006668,\n",
       " 0.00222,\n",
       " 0.004044,\n",
       " 0.007369,\n",
       " 0.00447,\n",
       " 0.016401,\n",
       " 0.007369,\n",
       " 0.009001,\n",
       " 0.02704,\n",
       " 0.001817,\n",
       " 0.020032,\n",
       " 0.010994,\n",
       " 0.018126,\n",
       " 0.009001,\n",
       " 0.008144,\n",
       " 0.01215,\n",
       " 0.004044,\n",
       " 0.00447,\n",
       " 0.008144,\n",
       " 0.009001,\n",
       " 0.029884,\n",
       " 0.029884,\n",
       " 0.005459,\n",
       " 0.013428,\n",
       " 0.003659,\n",
       " 0.029884,\n",
       " 0.007369,\n",
       " 0.010994,\n",
       " 0.018126,\n",
       " 0.006668,\n",
       " 0.006033,\n",
       " 0.008144,\n",
       " 0.018126,\n",
       " 0.022139,\n",
       " 0.0365,\n",
       " 0.008144,\n",
       " 0.007369,\n",
       " 0.006033,\n",
       " 0.029884,\n",
       " 0.007369,\n",
       " 0.008144,\n",
       " 0.005459,\n",
       " 0.013428,\n",
       " 0.010994,\n",
       " 0.013428,\n",
       " 0.00447,\n",
       " 0.01215,\n",
       " 0.010994,\n",
       " 0.010994,\n",
       " 0.007369,\n",
       " 0.009001,\n",
       " 0.006668,\n",
       " 0.00494]"
      ]
     },
     "execution_count": 3,
     "metadata": {},
     "output_type": "execute_result"
    }
   ],
   "source": [
    "from scipy.special import softmax\n",
    "import math\n",
    "import pandas as pd\n",
    "import numpy as np\n",
    "\n",
    "iris = pd.read_csv(\"data/iris.csv\")\n",
    "df = pd.DataFrame(iris)\n",
    "sl = df['sepallength']\n",
    "def sftmax(lst):\n",
    "    new_sl=[]\n",
    "    num = []\n",
    "    for num1 in lst:\n",
    "        num.append(math.exp(num1))\n",
    "    total = np.sum(num)\n",
    "    for num1 in num:\n",
    "        new_sl.append(round(num1/total,6))\n",
    "    return new_sl\n",
    "\n",
    "#softmax(sl)\n",
    "sftmax(sl)"
   ]
  },
  {
   "cell_type": "markdown",
   "metadata": {},
   "source": [
    "## Exercise 4: unique counts\n",
    "\n",
    "\n",
    "Compute the counts of unique values row-wise.\n",
    "\n",
    "Input:\n",
    "```\n",
    "np.random.seed(100)\n",
    "arr = np.random.randint(1,11,size=(6, 10))\n",
    "arr\n",
    "> array([[ 9,  9,  4,  8,  8,  1,  5,  3,  6,  3],\n",
    ">        [ 3,  3,  2,  1,  9,  5,  1, 10,  7,  3],\n",
    ">        [ 5,  2,  6,  4,  5,  5,  4,  8,  2,  2],\n",
    ">        [ 8,  8,  1,  3, 10, 10,  4,  3,  6,  9],\n",
    ">        [ 2,  1,  8,  7,  3,  1,  9,  3,  6,  2],\n",
    ">        [ 9,  2,  6,  5,  3,  9,  4,  6,  1, 10]])\n",
    "```\n",
    "Desired Output:\n",
    "```\n",
    "> [[1, 0, 2, 1, 1, 1, 0, 2, 2, 0],\n",
    ">  [2, 1, 3, 0, 1, 0, 1, 0, 1, 1],\n",
    ">  [0, 3, 0, 2, 3, 1, 0, 1, 0, 0],\n",
    ">  [1, 0, 2, 1, 0, 1, 0, 2, 1, 2],\n",
    ">  [2, 2, 2, 0, 0, 1, 1, 1, 1, 0],\n",
    ">  [1, 1, 1, 1, 1, 2, 0, 0, 2, 1]]\n",
    "```\n",
    "Output contains 10 columns representing numbers from 1 to 10. The values are the counts of the numbers in the respective rows.\n",
    "For example, Cell(0,2) has the value 2, which means, the number 3 occurs exactly 2 times in the 1st row."
   ]
  },
  {
   "cell_type": "code",
   "execution_count": 5,
   "metadata": {},
   "outputs": [
    {
     "data": {
      "text/plain": [
       "array([[ 4,  8, 10,  8, 10,  1,  4,  3,  9,  8],\n",
       "       [ 4, 10,  4,  6,  7,  3,  1,  8,  1,  5],\n",
       "       [ 5,  5,  4,  5,  4,  8,  4,  6,  3,  8],\n",
       "       [ 9,  1,  7,  2, 10,  7,  6,  2,  7,  8],\n",
       "       [ 6, 10,  6,  9,  2,  2, 10,  4,  4,  8],\n",
       "       [ 6,  6,  3,  1,  3,  1,  7,  7,  1,  9]])"
      ]
     },
     "execution_count": 5,
     "metadata": {},
     "output_type": "execute_result"
    }
   ],
   "source": [
    "#run this first\n",
    "import random \n",
    "import numpy as np\n",
    "arr = np.random.randint(1,11,size=(6, 10))\n",
    "arr"
   ]
  },
  {
   "cell_type": "code",
   "execution_count": 6,
   "metadata": {},
   "outputs": [
    {
     "data": {
      "text/plain": [
       "array([[1, 0, 1, 2, 0, 0, 0, 3, 1, 2],\n",
       "       [2, 0, 1, 2, 1, 1, 1, 1, 0, 1],\n",
       "       [0, 0, 1, 3, 3, 1, 0, 2, 0, 0],\n",
       "       [1, 2, 0, 0, 0, 1, 3, 1, 1, 1],\n",
       "       [0, 2, 0, 2, 0, 2, 0, 1, 1, 2],\n",
       "       [3, 0, 2, 0, 0, 2, 2, 0, 1, 0]])"
      ]
     },
     "execution_count": 6,
     "metadata": {},
     "output_type": "execute_result"
    }
   ],
   "source": [
    "def unique(arr):\n",
    "    new=[]\n",
    "    lst1 = list(range(1,11))\n",
    "    for i in range(len(arr)):\n",
    "        for j in range(len(arr[i])):\n",
    "            if lst1[j] in arr[i]:\n",
    "                a = np.count_nonzero(arr[i]==j+1)\n",
    "                new.append(a)\n",
    "            else:\n",
    "                c = 0\n",
    "                new.append(c)\n",
    "    new = np.array(new)\n",
    "    new.shape=(6,10)\n",
    "    return new\n",
    "unique(arr)"
   ]
  },
  {
   "cell_type": "markdown",
   "metadata": {},
   "source": [
    "## Exercise 5: One-Hot encodings\n",
    "\n",
    "Compute the one-hot encodings (AKA dummy binary variables) for each unique value in the array.\n",
    "\n",
    "Input:\n",
    "```\n",
    "np.random.seed(101) \n",
    "arr = np.random.randint(1,4, size=6)\n",
    "arr\n",
    "#> array([2, 3, 2, 2, 2, 1])\n",
    "```\n",
    "Output:\n",
    "```\n",
    "#> array([[ 0.,  1.,  0.],\n",
    "#>        [ 0.,  0.,  1.],\n",
    "#>        [ 0.,  1.,  0.],\n",
    "#>        [ 0.,  1.,  0.],\n",
    "#>        [ 0.,  1.,  0.],\n",
    "#>        [ 1.,  0.,  0.]])\n",
    "```"
   ]
  },
  {
   "cell_type": "code",
   "execution_count": 23,
   "metadata": {},
   "outputs": [
    {
     "data": {
      "text/plain": [
       "array([2, 3, 2, 2, 2, 1])"
      ]
     },
     "execution_count": 23,
     "metadata": {},
     "output_type": "execute_result"
    }
   ],
   "source": [
    "np.random.seed(101) \n",
    "arr1 = np.random.randint(1,4, size=6)\n",
    "arr1"
   ]
  },
  {
   "cell_type": "code",
   "execution_count": 26,
   "metadata": {},
   "outputs": [
    {
     "data": {
      "text/plain": [
       "array([[0, 1, 0],\n",
       "       [0, 0, 1],\n",
       "       [0, 1, 0],\n",
       "       [0, 1, 0],\n",
       "       [0, 1, 0],\n",
       "       [1, 0, 0]])"
      ]
     },
     "execution_count": 26,
     "metadata": {},
     "output_type": "execute_result"
    }
   ],
   "source": [
    "def oneHotEncoding(arr):\n",
    "    new=[]\n",
    "    for i in range(len(arr)):\n",
    "        zero= [0,0]\n",
    "        c = np.insert(zero,arr[i]-1,1)\n",
    "        new.append(c)\n",
    "    new = np.array(new)\n",
    "    return new\n",
    "oneHotEncoding(arr1)"
   ]
  },
  {
   "cell_type": "markdown",
   "metadata": {},
   "source": [
    "## Exercise 6\n",
    "\n",
    "Let `q` be a NumPy array of length `n` with `q.sum() == 1`.\n",
    "\n",
    "Suppose that `q` represents a [probability mass function](https://en.wikipedia.org/wiki/Probability_mass_function) over a statistical distribution. Recall that a distribution is an array of probabilities of events.\n",
    "\n",
    "We want to generate a discrete random variable $ x $ such that $ \\mathbb P\\{x = i\\} = q_i $.\n",
    "\n",
    "In other words, `x` takes values in `range(len(q))` and `x = i` with probability `q[i]`.\n",
    "\n",
    "The standard (inverse transform) algorithm is as follows:\n",
    "\n",
    "- Divide the unit interval $ [0, 1] $ into $ n $ subintervals $ I_0, I_1, \\ldots, I_{n-1} $ such that the length of $ I_i $ is $ q_i $.  \n",
    "- Draw a uniform random variable $ U $ on $ [0, 1] $ and return the $ i $ such that $ U \\in I_i $.  \n",
    "\n",
    "\n",
    "The probability of drawing $ i $ is the length of $ I_i $, which is equal to $ q_i $.\n",
    "\n",
    "We can implement the algorithm as follows\n",
    "\n",
    "```python\n",
    "from random import uniform\n",
    "\n",
    "def sample(q):\n",
    "    a = 0.0\n",
    "    U = uniform(0, 1)\n",
    "    for i in range(len(q)):\n",
    "        if a < U <= a + q[i]:\n",
    "            return i\n",
    "        a = a + q[i]\n",
    "```\n",
    "\n",
    "If you can’t see how this works, try thinking through the flow for a simple example, such as `q = [0.25, 0.75]`\n",
    "It helps to sketch the intervals on paper.\n",
    "\n",
    "**Your exercise is to speed it up using NumPy, avoiding explicit loops**\n",
    "\n",
    "- Hint: Use `np.searchsorted` and `np.cumsum`  \n",
    "\n",
    "\n",
    "If you can, implement the functionality as a class called `DiscreteRV`, where\n",
    "\n",
    "- the data for an instance of the class is the vector of probabilities `q`  \n",
    "- the class has a `draw()` method, which returns one draw according to the algorithm described above  \n",
    "\n",
    "\n",
    "If you can, write the method so that `draw(k)` returns `k` draws from `q`."
   ]
  },
  {
   "cell_type": "code",
   "execution_count": 27,
   "metadata": {},
   "outputs": [
    {
     "name": "stdout",
     "output_type": "stream",
     "text": [
      "0.3069662196722378\n"
     ]
    },
    {
     "data": {
      "text/plain": [
       "2"
      ]
     },
     "execution_count": 27,
     "metadata": {},
     "output_type": "execute_result"
    }
   ],
   "source": [
    "import numpy as np\n",
    "from random import uniform\n",
    "class DiscreteRV:\n",
    "    \n",
    "    def __init__(self,q):\n",
    "        self.q = q\n",
    "        self.Q = np.cumsum(q)\n",
    "        \n",
    "    def draw(self):\n",
    "        U = np.random.uniform(0,1)\n",
    "        print(U)\n",
    "        return self.Q.searchsorted(U)\n",
    "\n",
    "d = DiscreteRV([0.1,0.2,0.3, 0.4])# 0 ===>0.10 0.10===>0.30 0.30===0.60 0.60 ===1\n",
    "\n",
    "d.draw()"
   ]
  },
  {
   "cell_type": "markdown",
   "metadata": {},
   "source": [
    "## Exercise 7 Peaks\n",
    "\n",
    "Find all the peaks in a 1D numpy array a. Peaks are points surrounded by smaller values on both sides.\n",
    "\n",
    "Input:\n",
    "```\n",
    "a = np.array([1, 3, 7, 1, 2, 6, 0, 1])\n",
    "```\n",
    "Desired Output:\n",
    "```\n",
    "#> array([2, 5])\n",
    "```\n",
    "where, 2 and 5 are the positions of peak values 7 and 6.\n",
    "\n",
    "### 1. Solve this usign a regular python for loop\n",
    "\n",
    "### 2. Solve this using no loops and only numpy functions"
   ]
  },
  {
   "cell_type": "code",
   "execution_count": 31,
   "metadata": {},
   "outputs": [
    {
     "data": {
      "text/plain": [
       "[2, 5]"
      ]
     },
     "execution_count": 31,
     "metadata": {},
     "output_type": "execute_result"
    }
   ],
   "source": [
    "def peaks(arr):\n",
    "    lst=[]\n",
    "    for i in range(1,len(arr)-1):\n",
    "        if arr[i-1] < arr[i] and arr[i+1] < arr[i]:\n",
    "            lst.append(i)\n",
    "    return lst\n",
    "    \n",
    "    \n",
    "peaks([1, 3, 7, 1, 2, 6, 0, 1])    "
   ]
  },
  {
   "cell_type": "code",
   "execution_count": null,
   "metadata": {},
   "outputs": [],
   "source": []
  }
 ],
 "metadata": {
  "date": 1597540028.6350708,
  "filename": "numpy.rst",
  "kernelspec": {
   "display_name": "Python 3",
   "language": "python",
   "name": "python3"
  },
  "language_info": {
   "codemirror_mode": {
    "name": "ipython",
    "version": 3
   },
   "file_extension": ".py",
   "mimetype": "text/x-python",
   "name": "python",
   "nbconvert_exporter": "python",
   "pygments_lexer": "ipython3",
   "version": "3.8.3"
  },
  "next_doc": {
   "link": "matplotlib",
   "title": "Matplotlib"
  },
  "prev_doc": {
   "link": "need_for_speed",
   "title": "Python for Scientific Computing"
  },
  "title": "NumPy"
 },
 "nbformat": 4,
 "nbformat_minor": 2
}
